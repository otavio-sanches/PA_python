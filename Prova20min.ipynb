{
  "nbformat": 4,
  "nbformat_minor": 0,
  "metadata": {
    "colab": {
      "provenance": [],
      "authorship_tag": "ABX9TyO+NhQfxWCoG2URXNtcRKc5",
      "include_colab_link": true
    },
    "kernelspec": {
      "name": "python3",
      "display_name": "Python 3"
    },
    "language_info": {
      "name": "python"
    }
  },
  "cells": [
    {
      "cell_type": "markdown",
      "metadata": {
        "id": "view-in-github",
        "colab_type": "text"
      },
      "source": [
        "<a href=\"https://colab.research.google.com/github/otavio-sanches/PA_python/blob/main/Prova20min.ipynb\" target=\"_parent\"><img src=\"https://colab.research.google.com/assets/colab-badge.svg\" alt=\"Open In Colab\"/></a>"
      ]
    },
    {
      "cell_type": "markdown",
      "source": [
        "# 1)\tDetector de Fases da Lua (Situação hipotética)\n",
        "Faça um programa que pergunte o dia do mês (1 a 31) Não aceite valores fora desse intervalo.\n",
        "Baseado no dia, informe a provável fase da lua:\n",
        "\n",
        "•  Dia 1 a 7: Lua Nova\n",
        "\n",
        "•  Dia 8 a 14: Quarto Crescente\n",
        "\n",
        "•  Dia 15 a 21: Lua Cheia\n",
        "\n",
        "•  Dia 22 a 29: Quarto Minguante\n",
        "\n",
        "•  Dia 30 ou mais: Início de novo ciclo lunar\n"
      ],
      "metadata": {
        "id": "TyXMT_TuD-Ko"
      }
    },
    {
      "cell_type": "code",
      "execution_count": 4,
      "metadata": {
        "colab": {
          "base_uri": "https://localhost:8080/"
        },
        "id": "DwheTia3Dr6p",
        "outputId": "4c157b3a-47a2-4ae9-ff2f-68bb230f8264"
      },
      "outputs": [
        {
          "output_type": "stream",
          "name": "stdout",
          "text": [
            "Digite o dia 25\n",
            "Quarto Minguante\n"
          ]
        }
      ],
      "source": [
        "dia = int(input(\"Digite o dia \"))\n",
        "\n",
        "if dia>=1 and dia<=31:\n",
        "  if dia>=1 and dia<=7:\n",
        "    print(\"Lua Nova\")\n",
        "  elif dia>=8 and dia<=14:\n",
        "    print(\"Quarto Crescente\")\n",
        "  elif dia>=15 and dia<=21:\n",
        "    print(\"Lua Cheia\")\n",
        "  elif dia>=22 and dia<=29:\n",
        "    print(\"Quarto Minguante\")\n",
        "  else:\n",
        "    print(\"Inicio de novo ciclo lunar\")\n",
        "else:\n",
        "  print(\"Valor Inválido\")"
      ]
    },
    {
      "cell_type": "markdown",
      "source": [
        "#2)\tCrie um programa que simule a entrada de um jogador em uma batalha de RPG. O usuário deverá informar:\n",
        "•\tSua classe: \"mago\", \"guerreiro\" ou \"arqueiro\" (deve dar erro se as entradas forem diferentes dessas.\n",
        "\n",
        "•\tSua energia (valor de 0 a 100)\n",
        "Regras de entrada:\n",
        "\n",
        "•\tMagos: precisam ter energia > 60\n",
        "\n",
        "•\tGuerreiros: energia > 40\n",
        "\n",
        "•\tArqueiros: energia > 50\n",
        "\n",
        "Se puder entrar na batalha, o programa deve calcular um dano base diferente para cada classe:\n",
        "\n",
        "•\tMago: dano = energia × 1.5\n",
        "\n",
        "•\tGuerreiro: dano = energia × 2\n",
        "\n",
        "•\tArqueiro: dano = energia × 1.2\n",
        "\n",
        "O programa deve exibir:\n",
        "\n",
        "•\tSe o jogador pode ou não entrar\n",
        "\n",
        "•\tE, se puder, mostrar seu dano base calculado\n",
        "\n",
        "Exemplo da saída:\n",
        "\n",
        "Classe: guerreiro\n",
        "\n",
        "Energia: 55\n",
        "\n",
        "Você pode entrar na batalha!\n",
        "\n",
        "Dano base: 110.0\n"
      ],
      "metadata": {
        "id": "PQLJWuINFYT0"
      }
    },
    {
      "cell_type": "code",
      "source": [
        "energia = int(input(\"Digite a energia: \"))\n",
        "\n",
        "if energia >= 0 and energia <= 100:\n",
        "  print(\"Classes disponiveis:\\n mago\\n guerreiro\\n arqueiro\")\n",
        "  classe = str(input(\"Digite a classe em letras minusculas: \"))\n",
        "\n",
        "  if classe == \"mago\":\n",
        "    energia = energia * 1.5\n",
        "\n",
        "    if energia > 60:\n",
        "      print(f\"Entrou na batalha com {energia} de energia\")\n",
        "\n",
        "    else:\n",
        "      print(f\"Sem energia suficiente para batalhar: {energia} de energia\")\n",
        "  elif classe == \"guerreiro\":\n",
        "    energia = energia * 2\n",
        "\n",
        "    if energia > 40:\n",
        "      print(f\"Entrou na batalha com {energia} de energia\")\n",
        "\n",
        "    else:\n",
        "      print(f\"Sem energia suficiente para batalhar: {energia} de energia\")\n",
        "  elif classe == \"guerreiro\":\n",
        "    energia = energia * 1.2\n",
        "\n",
        "    if energia > 50:\n",
        "      print(f\"Entrou na batalha com {energia} de energia0\")\n",
        "\n",
        "    else:\n",
        "      print(f\"Sem energia suficiente para batalhar: {energia} de energia\")\n",
        "\n",
        "  else:\n",
        "    print(\"Classe inválida\")\n",
        "else:\n",
        "  print(\"Energia inválida\\nA energia tem que ser entre 0 e 100\")"
      ],
      "metadata": {
        "colab": {
          "base_uri": "https://localhost:8080/"
        },
        "id": "nqRVKmZoFlef",
        "outputId": "f07613a9-37cf-4595-bc3f-6bd995e00a12"
      },
      "execution_count": 10,
      "outputs": [
        {
          "output_type": "stream",
          "name": "stdout",
          "text": [
            "Digite a energia: 43\n",
            "Classes disponiveis:\n",
            " mago\n",
            " guerreiro\n",
            " arqueiro\n",
            "Digite a classe em letras minusculas: mago\n",
            "Entrou na batalha com 64.5 de energia\n"
          ]
        }
      ]
    },
    {
      "cell_type": "markdown",
      "source": [
        "#Descrição do Algoritmo:\n",
        "1. Início\n",
        "\n",
        "•\tSolicita-se a renda familiar mensal (em reais).\n",
        "\n",
        "2. Validação da Renda\n",
        "\n",
        "•\tSe a renda familiar for menor que 0, exibir:\n",
        "\n",
        "➤ \"Renda inválida\"\n",
        "\n",
        "•\tSe a renda familiar for maior que R$ 5.000, exibir:\n",
        "\n",
        "➤ \"Não participa da bolsa. Só participam candidatos com renda menor ou igual a R$ 5.000.\"\n",
        "\n",
        "3. Tipo de Escola\n",
        "\n",
        "•\tSolicitar o tipo de escola do candidato: \"pública\" ou \"particular\".\n",
        "\n",
        "•\tSe for outro valor, exibir:\n",
        "\n",
        "➤ \"Tipo de escola inválido\"\n",
        "\n",
        "➤ Encerrar o programa.\n",
        "\n",
        "4. Notas Anuais\n",
        "\n",
        "•\tSolicitar as três últimas notas anuais nas disciplinas:\n",
        "\n",
        "o\tMatemática\n",
        "\n",
        "o\tPortuguês\n",
        "\n",
        "o\tConhecimentos Gerais\n",
        "\n",
        "•\tPara cada nota, validar se está entre 1 e 10:\n",
        "\n",
        "o\tSe alguma estiver fora desse intervalo, exibir erro específico:\n",
        "\n",
        "➤ \"Nota inválida. Reinicie o preenchimento.\"\n",
        "\n",
        "➤ Encerrar o programa.\n",
        "\n",
        "•\tCalcular a média simples das três notas.\n",
        "Observação: Essa média poderá ser superior a 10 após os bônus.\n",
        "\n",
        "Processamento por Tipo de Escola e Média\n",
        "Se a escola for pública:\n",
        "\n",
        "Média ≥ 8:\n",
        "\n",
        "•\tAumentar a média em 20%;\n",
        "\n",
        "•\tSe a renda < R$ 3.000, aplicar mais 15% sobre o novo valor da média.\n",
        "\n",
        "Média ≥ 6 e < 8:\n",
        "\n",
        "•\tAumentar a média em 10%;\n",
        "\n",
        "•\tSe a renda < R$ 3.000, aplicar mais 5% sobre o novo valor da média.\n",
        "\n",
        "Média < 6:\n",
        "\n",
        "•\tExibir:\n",
        "\n",
        "➤ \"Não concorre à bolsa por nota baixa.\"\n",
        "\n",
        "Se a escola for particular:\n",
        "\n",
        "Média ≥ 8:\n",
        "\n",
        "•\tAumentar a média em 5%;\n",
        "\n",
        "•\tSe a renda < R$ 3.000, aplicar mais 15% sobre o novo valor da média.\n",
        "\n",
        "Média ≥ 6 e < 8:\n",
        "\n",
        "•\tAumentar a média em 2,5%;\n",
        "\n",
        "•\tSe a renda < R$ 3.000, aplicar mais 2% sobre o novo valor da média.\n",
        "\n",
        "Média < 6:\n",
        "\n",
        "•\tExibir:\n",
        "\n",
        "➤ \"Não concorre à bolsa por nota baixa.\"\n"
      ],
      "metadata": {
        "id": "IGa2smzQM4Kv"
      }
    },
    {
      "cell_type": "code",
      "source": [
        "renda = float(input(\"Qual é a sua renda familiar (em reais) :\"))\n",
        "\n",
        "if renda < 0:\n",
        "  print(\"Renda Inválida\")\n",
        "if renda > 5000:\n",
        "  print(\"Não participa da bolsa. Só participam candidatos com renda menor ou igual a R$ 5.000.\")\n",
        "\n",
        "else:\n",
        "  escola = str(input(\"Sua escola é pública ou particular. \"))\n",
        "\n",
        "  if escola == \"pública\" or escola == \"particular\":\n",
        "    print(\"Tipo de escola válido\")\n",
        "\n",
        "    nota_mat = float(input(\"Qual foi a sua ultima nota de\tMatemática ? \"))\n",
        "    nota_port = float(input(\"Qual foi a sua ultima nota de Português ? \"))\n",
        "    nota_cg = float(input(\"Qual foi a sua ultima nota de Conhecimentos Gerais ? \"))\n",
        "\n",
        "    if (nota_mat and nota_cg and nota_port) >=1 and (nota_port and nota_mat and nota_cg) <=10:\n",
        "      print(\"Notas Válidas\")\n",
        "\n",
        "      media = (nota_cg + nota_mat + nota_port) / 3\n",
        "      print(f\"Sua média é de {media :.2f}\")\n",
        "\n",
        "      if escola == \"pública\":\n",
        "        if media >= 8:\n",
        "          media = media * 0.20 + media\n",
        "          if renda < 3000:\n",
        "            media = media * 0.15 + media\n",
        "            print(\"Você ganhou 35% de bônus.\")\n",
        "\n",
        "        elif media >= 6 and media <8 :\n",
        "          media = media * 0.10 + media\n",
        "          if renda < 3000:\n",
        "            media = media * 0.05 + media\n",
        "            print(\"Você ganhou 35% de bônus.\")\n",
        "\n",
        "        elif media <6:\n",
        "          print(\"Não concorre à bolsa por nota baixa.\")\n",
        "\n",
        "      else:\n",
        "        if media >= 8:\n",
        "          media = media * 0.20 + media\n",
        "          if renda < 3000:\n",
        "            media = media * 0.15 + media\n",
        "            print(\"Você ganhou 35% de bônus.\")\n",
        "\n",
        "        elif media >= 6 and media <8 :\n",
        "          media = media * 0.10 + media\n",
        "          if renda < 3000:\n",
        "            media = media * 0.05 + media\n",
        "            print(\"Você ganhou 15% de bônus.\")\n",
        "\n",
        "        elif media <6:\n",
        "          print(\"Não concorre à bolsa por nota baixa.\")\n",
        "\n",
        "    else:\n",
        "      print(\"Nota inválida. Reinicie o preenchimento.\")\n",
        "\n",
        "  else:\n",
        "    print(\"Tipo de escola inválido\")"
      ],
      "metadata": {
        "colab": {
          "base_uri": "https://localhost:8080/"
        },
        "id": "CL_Ow_nKNjxF",
        "outputId": "b8112cb4-3d6d-4e18-ad7c-40503040fb79"
      },
      "execution_count": 30,
      "outputs": [
        {
          "output_type": "stream",
          "name": "stdout",
          "text": [
            "Qual é a sua renda familiar (em reais) :1431\n",
            "Sua escola é pública ou particular. particular\n",
            "Tipo de escola válido\n",
            "Qual foi a sua ultima nota de\tMatemática ? 10\n",
            "Qual foi a sua ultima nota de Português ? 4\n",
            "Qual foi a sua ultima nota de Conhecimentos Gerais ? 6\n",
            "Notas Válidas\n",
            "Sua média é de 6.67\n"
          ]
        }
      ]
    }
  ]
}