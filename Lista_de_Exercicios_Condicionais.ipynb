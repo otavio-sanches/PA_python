{
  "nbformat": 4,
  "nbformat_minor": 0,
  "metadata": {
    "colab": {
      "provenance": []
    },
    "kernelspec": {
      "name": "python3",
      "display_name": "Python 3"
    },
    "language_info": {
      "name": "python"
    }
  },
  "cells": [
    {
      "cell_type": "markdown",
      "source": [
        "##1. Faça um programa que solicite ao usuário três valores (lados de um triangulo), verifique se é um triangulo e informe se ele é isóceles, equilatero ou escaleno."
      ],
      "metadata": {
        "id": "xf0oW_qa_t-i"
      }
    },
    {
      "cell_type": "code",
      "execution_count": null,
      "metadata": {
        "colab": {
          "base_uri": "https://localhost:8080/"
        },
        "id": "9uQU9ZiD_jiz",
        "outputId": "cf38b2eb-6498-4270-fdde-cfcb09e315c7"
      },
      "outputs": [
        {
          "output_type": "stream",
          "name": "stdout",
          "text": [
            "Digite o valor do lado 1 : 4\n",
            "Digite o valor do lado 2 : 4\n",
            "Digite o valor do lado 3 : 4\n",
            "É um triangulo equilatero.\n"
          ]
        }
      ],
      "source": [
        "L1 = int(input('Digite o valor do lado 1 : '))\n",
        "L2 = int(input('Digite o valor do lado 2 : '))\n",
        "L3 = int(input('Digite o valor do lado 3 : '))\n",
        "\n",
        "if (L1 + L2 > L3) and (L1 + L3 > L2) and (L2 + L3 > L1):\n",
        "\n",
        "  if (L1 == L2) and (L2 == L3) and (L1 == L3):\n",
        "    print('É um triangulo equilatero.')\n",
        "\n",
        "  elif (L1 == L2) or (L2 == L3) or (L1 == L3):\n",
        "    print('É um triangulo isosceles.')\n",
        "\n",
        "  elif (L1 != L2) and (L2 != L3) and (L1 != L3):\n",
        "    print('É um triangulo escaleno.')\n",
        "\n",
        "else:\n",
        "  print('Essas medidas não formam um triangulo')\n"
      ]
    },
    {
      "cell_type": "markdown",
      "source": [],
      "metadata": {
        "id": "Nf9Qkb8CcI55"
      }
    },
    {
      "cell_type": "markdown",
      "source": [
        "##2. Peça para o usuário digitar um valor informe se ele é par ou impar"
      ],
      "metadata": {
        "id": "YnkR7kAXErFC"
      }
    },
    {
      "cell_type": "code",
      "source": [
        "valor = int(input(\"Digite um numero para ver se é par ou impar! \"))\n",
        "if (valor%2 == 0):\n",
        "  print ('Seu numero é par')\n",
        "\n",
        "else:\n",
        "  print('Seu numero é impar')"
      ],
      "metadata": {
        "colab": {
          "base_uri": "https://localhost:8080/"
        },
        "id": "2ci4vRfIE4Ff",
        "outputId": "09a1353f-6211-4576-ad9d-50dfdad4b481"
      },
      "execution_count": null,
      "outputs": [
        {
          "output_type": "stream",
          "name": "stdout",
          "text": [
            "Digite um numero para ver se é par ou impar! 2\n",
            "Seu numero é par\n"
          ]
        }
      ]
    },
    {
      "cell_type": "markdown",
      "source": [
        "##3. Faça um programa que solicite peso e altura, informe seu IMC. Ao final informe se ele está, abaixo do peso,peso ideal ou acima do peso. fórmula do IMC: (peso/altura^2), siga a tabela abaixo:I\n",
        "\n"
      ],
      "metadata": {
        "id": "WDppysC2GLA8"
      }
    },
    {
      "cell_type": "code",
      "source": [
        "altura =  float(input(\"digite a sua altura: \"))\n",
        "peso = float(input(\"digite o seu peso :\"))\n",
        "\n",
        "imc = peso / (altura**2)\n",
        "\n",
        "if (imc < 18.5):\n",
        "  print('Abaixo do Peso ')\n",
        "elif(imc >= 18.5) and (imc <= 24.9):\n",
        "  print('Peso Ideal')\n",
        "elif(imc >= 25) and (imc <= 29.9):\n",
        "  print('Sobre Peso')\n",
        "elif(imc >= 30) and (imc <= 34.9):\n",
        "  print('Obesidade 1')\n",
        "elif(imc >= 35) and (imc <= 39.9):\n",
        "  print('Obesidade 2')\n",
        "elif(imc > 40):\n",
        "  print('Obesidade 3')"
      ],
      "metadata": {
        "colab": {
          "base_uri": "https://localhost:8080/"
        },
        "id": "si-mZQMCGQnr",
        "outputId": "26e24d0d-88f7-4ea8-e281-7e6705c41f6f"
      },
      "execution_count": null,
      "outputs": [
        {
          "output_type": "stream",
          "name": "stdout",
          "text": [
            "digite a sua altura: 2.00\n",
            "digite o seu peso :50\n",
            "Abaixo do Peso \n"
          ]
        }
      ]
    },
    {
      "cell_type": "markdown",
      "source": [
        "##4. Caixa Eletrônico com Login e Operações Bancárias\n",
        "\n",
        "Crie um programa que simule um caixa eletrônico. O programa deve:\n",
        "\n",
        "Solicitar ao usuário nome de usuário e senha para acessar a conta bancária (use valores fictícios para usuário e senha, por exemplo, \"cliente\" e \"1234\").\n",
        "\n",
        "Se o usuário ou a senha estiver incorreto, o programa deve bloquear o acesso e exibir a mensagem: \"Usuário ou senha incorretos. Tente novamente.\""
      ],
      "metadata": {
        "id": "yfJk0VvmIZJU"
      }
    },
    {
      "cell_type": "code",
      "source": [
        "usuario_certo = \"admin\"\n",
        "senha_certa = 1234\n",
        "\n",
        "usuario = input('Digite seu usuario: ')\n",
        "senha = int(input('Digite sua senha: '))\n",
        "\n",
        "if usuario == usuario_certo and senha == senha_certa :\n",
        "  print('Usuario Logado')\n",
        "\n",
        "else:\n",
        "  print(\"Usuário ou senha incorretos. Tente novamente.\")"
      ],
      "metadata": {
        "id": "EPilVnQtI1nx",
        "colab": {
          "base_uri": "https://localhost:8080/"
        },
        "outputId": "518b895e-cd99-4423-affb-8b4a71cef09a"
      },
      "execution_count": 7,
      "outputs": [
        {
          "output_type": "stream",
          "name": "stdout",
          "text": [
            "Digite seu usuario: adimin\n",
            "Digite sua senha: 1234\n",
            "Usuário ou senha incorretos. Tente novamente.\n"
          ]
        }
      ]
    },
    {
      "cell_type": "markdown",
      "source": [
        "##5. Exercício – Simulador de Saque e Depósito com Limite\n",
        "\n",
        "Sequência do exercício anterior\n",
        "\n",
        "Deverá ter os valores fixos de\n",
        "\n",
        "Exemplo:\n",
        "\n",
        "limite = 3000\n",
        "\n",
        "saldo = - 50.00\n",
        "\n",
        "Se o login for bem-sucedido, o programa deve exibir as opções de escolha para o usuário de saque, depósito ou ver saldo, e o usuário poderá escolher qual operação deseja realizar.\n",
        "\n",
        "Exemplo:\n",
        "\n",
        "Digite 1 para sacar\n",
        "\n",
        "Digite 2 para depositar\n",
        "\n",
        "Digite 3 para ver o saldo\n",
        "\n",
        "Porém ao final de cada operação de saque ou depósito, mostre como ficou o saldo do cliente no banco. Sempre mostranto saldo e o restante do limite do banco.\n",
        "\n",
        "Caso o usuário escolha sacar:\n",
        "\n",
        "Solicitar o valor que deseja sacar.\n",
        "\n",
        "Verificar se o saque pode ser realizado, considerando o saldo mais o limite disponível.\n",
        "\n",
        "Informar se o saque foi autorizado ou negado.\n",
        "\n",
        "Se autorizado, informar o saldo final e se ele é positivo ou negativo.\n",
        "\n",
        "Não esqueça de atualizar o saldo\n",
        "\n",
        "Informar qual o valor negativo que ele está caso esteja usando o limite do Banco.\n",
        "\n",
        "Caso o usuário escolha depositar:\n",
        "\n",
        "Solicitar o valor do depósito.\n",
        "\n",
        "Atualizar o saldo e informar o novo saldo final.\n",
        "\n",
        "Caso o saldo ultrapasse o limite, informar que o limite foi excedido.\n",
        "\n",
        "Dica: Lembre-se de que o limite funciona como um \"empréstimo automático\", permitindo que o cliente saque além do saldo disponível."
      ],
      "metadata": {
        "id": "p1Hm5hUUJfBk"
      }
    },
    {
      "cell_type": "code",
      "source": [
        "usuario_certo = \"Cliente\"\n",
        "senha_certa = 1234\n",
        "limite = 3000\n",
        "saldo = -50.00\n",
        "\n",
        "usuario = input('Digite seu usuario: ')\n",
        "senha = int(input('Digite sua senha: '))\n",
        "\n",
        "if usuario == usuario_certo :\n",
        "  if senha == senha_certa:\n",
        "    print( 'Usuario Logado !!')\n",
        "\n",
        "    operacoes = int(input('O que deseja fazer? \\n Digite 1 para sacar. \\n Digite 2 para depositar. \\n Digite 3 para ver saldo.  '))\n",
        "\n",
        "    if(operacoes==1):\n",
        "      valor_saque = float(input('Digite o valor do saque desejado: '))\n",
        "      limite_total = saldo + limite\n",
        "      if(valor_saque <= limite_total):\n",
        "        print('Saque autorizado')\n",
        "        saldo = saldo - valor_saque\n",
        "        print(f'Seu novo saldo é {saldo}')\n",
        "      else:\n",
        "        print('Saque negado !!')\n",
        "\n",
        "    if(operacoes==2):\n",
        "      valor_deposito = float(input('Digite o valor do deposito desejado: '))\n",
        "      saldo = saldo + valor_deposito\n",
        "      print(f'Agora seu saldo é de {saldo}')\n",
        "\n",
        "    if(operacoes==3):\n",
        "      print(f'Seu saldo é de {saldo}')\n",
        "\n",
        "\n",
        "\n",
        "\n",
        "\n",
        "else:\n",
        "  print(\"Usuário incorreto. Tente novamente.\")"
      ],
      "metadata": {
        "id": "NDgGlB6zJl_b",
        "colab": {
          "base_uri": "https://localhost:8080/"
        },
        "outputId": "252ad650-34f3-46c8-e556-ce2ff05e927e"
      },
      "execution_count": 4,
      "outputs": [
        {
          "output_type": "stream",
          "name": "stdout",
          "text": [
            "Digite seu usuario: Cliente\n",
            "Digite sua senha: 1234\n",
            "Usuario Logado !!\n",
            "O que deseja fazer? \n",
            " Digite 1 para sacar. \n",
            " Digite 2 para depositar. \n",
            " Digite 3 para ver saldo.  3\n",
            "Seu saldo é de -50.0\n"
          ]
        }
      ]
    },
    {
      "cell_type": "markdown",
      "source": [
        "#6. Faça um programa que solicite altura e idade do usuário, informe se ele pode ou nao competir.\n",
        "\n",
        "###Regras: Para competir no campeonato de vôlei o usuário de ter pelo menos 1.75 de altura e 18 anos."
      ],
      "metadata": {
        "id": "zIK2SiBPDoHE"
      }
    },
    {
      "cell_type": "code",
      "source": [
        "altura = float(input('Qual a sua altura? '))\n",
        "idade = int(input('Qual a sua idade? '))\n",
        "\n",
        "if (altura >= 1.75) and (idade >= 18):\n",
        "  print('Voçe pode participar do campeonato !!')\n",
        "\n",
        "else:\n",
        "  print('Voçe não pode participar do campeonato !!')"
      ],
      "metadata": {
        "id": "fIJ-v6aiDzhU",
        "colab": {
          "base_uri": "https://localhost:8080/"
        },
        "outputId": "199f2ccf-6ad5-45fc-eedf-75246729ee86"
      },
      "execution_count": 5,
      "outputs": [
        {
          "output_type": "stream",
          "name": "stdout",
          "text": [
            "Qual a sua altura? 170\n",
            "Qual a sua idade? 15\n",
            "Voçe não pode participar do campeonato !!\n"
          ]
        }
      ]
    },
    {
      "cell_type": "markdown",
      "source": [
        "#7. Faça um programa que solicite o peso do lutador de Boxe. Informe em que categoria de boxe o usuário está, segundo os critérios abaixos:"
      ],
      "metadata": {
        "id": "jd7rJ1S4FeTn"
      }
    },
    {
      "cell_type": "code",
      "source": [
        "peso = float(input(\"qual é seu peso: \"))\n",
        "if (peso >90.72):\n",
        "  print(\"sua classe é pesado\")\n",
        "elif (peso>79.38 and peso<=90.72):\n",
        "  print(\"sua classe é cruzador\")\n",
        "elif (peso>76.2 and peso<=79.38):\n",
        "  print(\"sua classe é meio pesado\")\n",
        "elif (peso>73.03 and peso<=76.2):\n",
        "  print(\"sua classe é super médio\")\n",
        "elif (peso>69.85 and peso<=73.03):\n",
        "  print(\"sua classe é médio\")\n",
        "elif (peso>66.68 and peso<=69.85):\n",
        "  print(\"sua classe é super meio médio\")\n",
        "elif (peso>63.5 and peso<=66.68):\n",
        "  print(\"sua classe é meio médio\")\n",
        "elif (peso>61.23 and peso<=63.5):\n",
        "  print(\"sua classe é super leve\")\n",
        "elif (peso>58.97 and peso<=61.23):\n",
        "  print(\"sua classe é Leve\")\n",
        "elif (peso>57.15 and peso<=58.97):\n",
        "  print(\"sua classe é Super Pena\")\n",
        "elif (peso>55.34 and peso<=57.15):\n",
        "  print(\"sua classe é pena\")\n",
        "elif (peso>53.52 and peso<=55.34):\n",
        "  print(\"sua classe é Super Galo\")\n",
        "elif (peso>51.71 and peso<=53.52):\n",
        "  print(\"sua classe é Galo\")\n",
        "elif (peso>50.35 and peso<=51.71):\n",
        "  print(\"sua classe é Super Mosca\")\n",
        "elif (peso>48.99 and peso<=50.35):\n",
        "  print(\"sua classe é Mosca\")\n",
        "elif (peso>47.63 and peso<=48.99):\n",
        "  print(\"sua classe é Mosca Ligeiro\")\n",
        "elif (peso>46.27 and peso<=47.63):\n",
        "  print(\"sua classe é palha\")\n",
        "elif (peso<=46.27):\n",
        "  print(\"sua classe é Palha Ligeiro\")"
      ],
      "metadata": {
        "id": "nExcnhlzFj0k",
        "colab": {
          "base_uri": "https://localhost:8080/"
        },
        "outputId": "c97943ab-3333-4cf6-fdda-af9584f727c4"
      },
      "execution_count": 6,
      "outputs": [
        {
          "output_type": "stream",
          "name": "stdout",
          "text": [
            "qual é seu peso: 56\n",
            "sua classe é pena\n"
          ]
        }
      ]
    },
    {
      "cell_type": "markdown",
      "source": [
        "#8.Faça um programa que solicite\n",
        "\n",
        "###O salário do usuário;\n",
        "\n",
        "###Informe quanto esse usuário irá pagar de imposto de Renda seguindo a tabela abaixo:\n",
        "\n"
      ],
      "metadata": {
        "id": "BSc3-zd8GNkW"
      }
    },
    {
      "cell_type": "code",
      "source": [
        "salario = float(input('Qual o seu salario? '))\n",
        "\n",
        "if(salario <= 1903.98):\n",
        "  print('Voçe está isento de impostos ')\n",
        "\n",
        "elif( salario >= 1903.99 <= 2826.65 ):\n",
        "  imposto = 7.5/100 * salario\n",
        "  print(f'Voce tera que pagar {imposto} reais')\n",
        "\n",
        "elif( salario >= 2826.66 <= 3751.05 ):\n",
        "  imposto = 15/100 * salario\n",
        "  print(f'Voce tera que pagar {imposto} reais')\n",
        "\n",
        "elif( salario >= 3751.06 <= 4664.68 ):\n",
        "  imposto = 22.5/100 * salario\n",
        "  print(f'Voce tera que pagar {imposto} reais')\n",
        "\n",
        "elif( salario > 4664.69 ):\n",
        "  imposto = 27.5/100 * salario\n",
        "  print(f'Voce tera que pagar {imposto} reais')"
      ],
      "metadata": {
        "id": "ZuqjFmgCGaVu",
        "colab": {
          "base_uri": "https://localhost:8080/"
        },
        "outputId": "61873ddc-6e16-4aab-c404-e95d1fa8477a"
      },
      "execution_count": 3,
      "outputs": [
        {
          "output_type": "stream",
          "name": "stdout",
          "text": [
            "Qual o seu salario? 5000\n",
            "Voce tera que pagar 375.0 reais\n"
          ]
        }
      ]
    },
    {
      "cell_type": "markdown",
      "source": [
        "#9.Uma empresa dará aumento para seus funcionários, faça um programa que faça esses cálculos, solicite o salário do funcionário e informe o aumento que o mesmo terá, seguindo os seguintes critérios:\n",
        "\n"
      ],
      "metadata": {
        "id": "m4rAEzPvcMOq"
      }
    },
    {
      "cell_type": "code",
      "source": [
        "salario = float(input(\"Digite o salário do funcionário: R$ \"))\n",
        "\n",
        "if salario <= 1500:\n",
        "    aumento = 0.20\n",
        "elif salario <= 3000:\n",
        "    aumento = 0.15\n",
        "else:\n",
        "    aumento = 0.10\n",
        "\n",
        "valor_aumento = salario * aumento\n",
        "novo_salario = salario + valor_aumento\n",
        "\n",
        "print(f\"O aumento será de R${valor_aumento:.2f} ({aumento}%)\")\n",
        "print(f\"O novo salário será de R${novo_salario:.2f}\")\n"
      ],
      "metadata": {
        "colab": {
          "base_uri": "https://localhost:8080/"
        },
        "id": "vJRxmdLDcRCC",
        "outputId": "a96c8a4c-c45a-4201-a294-fbbe46ec1752"
      },
      "execution_count": 1,
      "outputs": [
        {
          "output_type": "stream",
          "name": "stdout",
          "text": [
            "Digite o salário do funcionário: R$ 1666\n",
            "O aumento será de R$249.90 (0.15%)\n",
            "O novo salário será de R$1915.90\n"
          ]
        }
      ]
    },
    {
      "cell_type": "markdown",
      "source": [
        "#10.Simulador de frete inteligente\n",
        "\n",
        "Peça o peso do pacote (em kg) e a distância (em km) de sua cidade até o local de entrega.Calcule o frete com base em regras:\n",
        "\n",
        "Até 2kg → R$5 por 100km\n",
        "\n",
        "De 2kg a 5kg → R$8 por 100km\n",
        "\n",
        "Acima de 5kg → R$10 por 100km\n",
        "\n",
        "Exemplo de saída:\n",
        "\n",
        "\"Para um pacote de 3kg viajando 350km, o valor do frete será R$28,00\""
      ],
      "metadata": {
        "id": "1ndtc-G4dB6D"
      }
    },
    {
      "cell_type": "code",
      "source": [
        "peso = float(input(\"Digite o peso do pacote (em kg): \"))\n",
        "distancia = float(input(\"Digite a distância até o destino (em km): \"))\n",
        "\n",
        "if peso <= 2:\n",
        "    preco_por_100km = 5\n",
        "elif peso <= 5:\n",
        "    preco_por_100km = 8\n",
        "else:\n",
        "    preco_por_100km = 10\n",
        "\n",
        "blocos_100km = distancia / 100\n",
        "frete = blocos_100km * preco_por_100km\n",
        "\n",
        "print(f\"Para um pacote de {peso}kg viajando {distancia}km, o valor do frete será R${frete:.2f}\")"
      ],
      "metadata": {
        "colab": {
          "base_uri": "https://localhost:8080/"
        },
        "id": "oRpyE0xbdF7S",
        "outputId": "612ecfd7-5c3c-4524-f639-049b9da026d3"
      },
      "execution_count": 2,
      "outputs": [
        {
          "output_type": "stream",
          "name": "stdout",
          "text": [
            "Digite o peso do pacote (em kg): 3\n",
            "Digite a distância até o destino (em km): 350\n",
            "Para um pacote de 3.0kg viajando 350.0km, o valor do frete será R$28.00\n"
          ]
        }
      ]
    }
  ]
}