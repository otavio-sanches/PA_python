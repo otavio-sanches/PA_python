{
  "nbformat": 4,
  "nbformat_minor": 0,
  "metadata": {
    "colab": {
      "provenance": []
    },
    "kernelspec": {
      "name": "python3",
      "display_name": "Python 3"
    },
    "language_info": {
      "name": "python"
    }
  },
  "cells": [
    {
      "cell_type": "markdown",
      "source": [
        "# Variáveis e Constantes\n",
        "\n",
        "## O que são variáveis?\n",
        "\n",
        "Espaços na memória que armazenam dados que podem ser alterados durante a execução do programa."
      ],
      "metadata": {
        "id": "81G79JtQ7Tmw"
      }
    },
    {
      "cell_type": "code",
      "execution_count": null,
      "metadata": {
        "colab": {
          "base_uri": "https://localhost:8080/"
        },
        "id": "ZBYa6ODk6gRM",
        "outputId": "81909076-c55e-421c-a760-daa809ce829a"
      },
      "outputs": [
        {
          "output_type": "stream",
          "name": "stdout",
          "text": [
            "Olá, meu nome é  Otavio Sanches, e tenho 15 anos.\n"
          ]
        }
      ],
      "source": [
        "nome = ' Otavio Sanches'\n",
        "idade = 15\n",
        "print (f'Olá, meu nome é {nome}, e tenho {idade} anos.')"
      ]
    },
    {
      "cell_type": "code",
      "source": [
        "PI = 3.1415926\n",
        "raio = 5\n",
        "area = PI * (raio ** 2)\n",
        "print (f' A area do circulo é {area}')"
      ],
      "metadata": {
        "id": "gp8SpNoX8Ho9",
        "collapsed": true,
        "colab": {
          "base_uri": "https://localhost:8080/"
        },
        "outputId": "8e3be014-c046-4d6d-8425-4d459e60507b"
      },
      "execution_count": null,
      "outputs": [
        {
          "output_type": "stream",
          "name": "stdout",
          "text": [
            " A area do circulo é 78.539815\n"
          ]
        }
      ]
    },
    {
      "cell_type": "markdown",
      "source": [
        "# Tipos de dados"
      ],
      "metadata": {
        "id": "J6PjmKQeVXvY"
      }
    },
    {
      "cell_type": "markdown",
      "source": [],
      "metadata": {
        "id": "1FhKWwN6mECz"
      }
    },
    {
      "cell_type": "code",
      "source": [
        "nome = \"Otavio\"\n",
        "idade = 14\n",
        "altura = 1.68\n",
        "resp = True\n",
        "animal = [\"Jade\", \"Yure\", \"Theo\"]\n",
        "comida = (\"Macarrão\", \"Arroz\", \"Feijão\")\n",
        "animaldicio = {\"Gato\": [\"Jade\", \"Yure\"], \"Cachorro\" : [\"Theo\"]}"
      ],
      "metadata": {
        "id": "xs77WyCCWL5v"
      },
      "execution_count": null,
      "outputs": []
    },
    {
      "cell_type": "code",
      "source": [
        "print(type(nome))\n",
        "print(type(idade))\n",
        "print(type(altura))\n",
        "print(type(animal))\n",
        "print(type(comida))\n",
        "print(type(animaldicio))"
      ],
      "metadata": {
        "colab": {
          "base_uri": "https://localhost:8080/"
        },
        "id": "_bbFx8ZwXweX",
        "outputId": "7fdd5f65-0f2a-4bc7-8b7a-ee0303fa2508"
      },
      "execution_count": null,
      "outputs": [
        {
          "output_type": "stream",
          "name": "stdout",
          "text": [
            "<class 'str'>\n",
            "<class 'int'>\n",
            "<class 'float'>\n",
            "<class 'list'>\n",
            "<class 'tuple'>\n",
            "<class 'dict'>\n"
          ]
        }
      ]
    },
    {
      "cell_type": "code",
      "source": [
        "print(f\"O nome do paciente é {nome}\")\n",
        "print(f\"A idade é {idade}\")\n",
        "print(f\"E a autura é {altura}\")\n",
        "print(f\"Gosta de animais : {resp}\")\n",
        "print(f\"Suas comidas favoritas são : {comida}\")\n",
        "print(f\"Seus animais são : {animal}\")\n",
        "print(f\"Seus animais por especie são : {animaldicio}\")"
      ],
      "metadata": {
        "id": "moFA-ZzTaDdP"
      },
      "execution_count": null,
      "outputs": []
    },
    {
      "cell_type": "markdown",
      "source": [
        "# Constantes"
      ],
      "metadata": {
        "id": "b2TI4KFTeqV1"
      }
    },
    {
      "cell_type": "markdown",
      "source": [
        "## Calcular area do circulo"
      ],
      "metadata": {
        "id": "EKRspw1hexG8"
      }
    },
    {
      "cell_type": "code",
      "source": [
        "# entrada\n",
        "raio = float(input(\"Qual é o raio do circulo ? \"))"
      ],
      "metadata": {
        "colab": {
          "base_uri": "https://localhost:8080/"
        },
        "id": "LoijbyQ2e230",
        "outputId": "db6726b5-e756-4fdb-b1bf-602a48063589"
      },
      "execution_count": null,
      "outputs": [
        {
          "name": "stdout",
          "output_type": "stream",
          "text": [
            "Qual é o raio do circulo ? 5\n"
          ]
        }
      ]
    },
    {
      "cell_type": "code",
      "source": [
        "# processo\n",
        "areacirculo = 3.1415926 * (raio ** 2)"
      ],
      "metadata": {
        "id": "dbUd_tp7gay1"
      },
      "execution_count": null,
      "outputs": []
    },
    {
      "cell_type": "code",
      "source": [
        "# saida\n",
        "print(f'A area do circulo é {areacirculo}')"
      ],
      "metadata": {
        "colab": {
          "base_uri": "https://localhost:8080/"
        },
        "id": "LUAYMHwigxS0",
        "outputId": "495c9b39-6f3e-43ca-847e-01dec1de6916"
      },
      "execution_count": null,
      "outputs": [
        {
          "output_type": "stream",
          "name": "stdout",
          "text": [
            "A area do circulo é 78.539815\n"
          ]
        }
      ]
    },
    {
      "cell_type": "markdown",
      "source": [
        "#exercicios"
      ],
      "metadata": {
        "id": "ngs9XXj_mGpC"
      }
    },
    {
      "cell_type": "markdown",
      "source": [
        "##1\n"
      ],
      "metadata": {
        "id": "hWiyku6AmYJa"
      }
    },
    {
      "cell_type": "code",
      "source": [
        "base = float(input(\"Qual é a base do retangulo ? \"))\n",
        "altura = float(input(\"Qual é a altura do retangulo ? \"))\n",
        "area = base * altura\n",
        "print(f\"A area do retangulo é {area}\")"
      ],
      "metadata": {
        "colab": {
          "base_uri": "https://localhost:8080/"
        },
        "id": "IsqPsiMtmaNh",
        "outputId": "fd85399e-b104-466f-8c9d-f3d1a5fafed5"
      },
      "execution_count": null,
      "outputs": [
        {
          "output_type": "stream",
          "name": "stdout",
          "text": [
            "Qual é a base do retangulo ? 5\n",
            "Qual é a altura do retangulo ? 4\n",
            "A area do retangulo é 20.0\n"
          ]
        }
      ]
    },
    {
      "cell_type": "markdown",
      "source": [
        "##2\n"
      ],
      "metadata": {
        "id": "9a0CzX7SnK-q"
      }
    },
    {
      "cell_type": "code",
      "source": [
        "PI = 3.14\n",
        "raio = float(input(\"Qual é o raio do circulo ? \"))\n",
        "perimetro = PI * raio\n",
        "print(f\"O perimetro é {perimetro :.2f}\")"
      ],
      "metadata": {
        "colab": {
          "base_uri": "https://localhost:8080/"
        },
        "id": "AZJIKwF0nOKC",
        "outputId": "c61086a9-c061-4603-d0ef-64cf7c4355ec"
      },
      "execution_count": null,
      "outputs": [
        {
          "output_type": "stream",
          "name": "stdout",
          "text": [
            "Qual é o raio do circulo ? 5\n",
            "O perimetro é 15.70\n"
          ]
        }
      ]
    },
    {
      "cell_type": "markdown",
      "source": [
        "##3"
      ],
      "metadata": {
        "id": "CLpD15CioiIZ"
      }
    },
    {
      "cell_type": "code",
      "source": [
        "Fahrenheit = float(input(\"Qual é a temperatura em Fahrenheit ? \"))\n",
        "Celsius =  (Fahrenheit - 32) * 5/9\n",
        "print(f\"A temperatura em Celsius é {Celsius :.2f}\")"
      ],
      "metadata": {
        "colab": {
          "base_uri": "https://localhost:8080/"
        },
        "id": "ZLJQeF_Vojg5",
        "outputId": "e7ed8518-0a86-4c1e-e135-7e21d891e13d"
      },
      "execution_count": null,
      "outputs": [
        {
          "output_type": "stream",
          "name": "stdout",
          "text": [
            "Qual é a temperatura em Fahrenheit ? 29\n",
            "A temperatura em Celsius é -1.67\n"
          ]
        }
      ]
    },
    {
      "cell_type": "markdown",
      "source": [
        "##4"
      ],
      "metadata": {
        "id": "_rnmLVyXpfxJ"
      }
    },
    {
      "cell_type": "code",
      "source": [
        "peso = float(input(\"Qual é o seu peso ? \"))\n",
        "altura = float(input(\"Qual é a sua altura ? \"))\n",
        "IMC = peso / (altura ** 2)\n",
        "print(f\"O seu IMC é {IMC :.2f}\")"
      ],
      "metadata": {
        "colab": {
          "base_uri": "https://localhost:8080/"
        },
        "id": "h4Z4Vco_phFJ",
        "outputId": "c6557281-0d30-4a27-f7c8-d9f9e675b4e0"
      },
      "execution_count": null,
      "outputs": [
        {
          "output_type": "stream",
          "name": "stdout",
          "text": [
            "Qual é o seu peso ? 56\n",
            "Qual é a sua altura ? 1.68\n",
            "O seu IMC é 19.84\n"
          ]
        }
      ]
    }
  ]
}