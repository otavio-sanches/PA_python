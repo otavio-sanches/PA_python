{
  "nbformat": 4,
  "nbformat_minor": 0,
  "metadata": {
    "colab": {
      "provenance": [],
      "include_colab_link": true
    },
    "kernelspec": {
      "name": "python3",
      "display_name": "Python 3"
    },
    "language_info": {
      "name": "python"
    }
  },
  "cells": [
    {
      "cell_type": "markdown",
      "metadata": {
        "id": "view-in-github",
        "colab_type": "text"
      },
      "source": [
        "<a href=\"https://colab.research.google.com/github/otavio-sanches/PA_python/blob/main/Lista_de_exerc%C3%ADcios_Operadores_L%C3%B3gicos_e_Realcionais_____Pronto.ipynb\" target=\"_parent\"><img src=\"https://colab.research.google.com/assets/colab-badge.svg\" alt=\"Open In Colab\"/></a>"
      ]
    },
    {
      "cell_type": "markdown",
      "source": [
        "# Antes de Qualquer coisa Salve uma cópia no seu drive para não perder os códigos"
      ],
      "metadata": {
        "id": "u7J214bEGDpV"
      }
    },
    {
      "cell_type": "markdown",
      "source": [
        "## vá em arquivos: Salvar uma cópia no Drive"
      ],
      "metadata": {
        "id": "zT3Nb6BfGL56"
      }
    },
    {
      "cell_type": "markdown",
      "source": [
        "#Lista de exercícios - Operadores Lógicos e Relacionais\n",
        "\n"
      ],
      "metadata": {
        "id": "IfPXF-sV3xLF"
      }
    },
    {
      "cell_type": "markdown",
      "source": [
        "Em Python, usamos operadores relacionais e lógicos para fazer comparações e tomar decisões com base em condições. Eles são fundamentais na construção de estruturas de controle como if, while e outras."
      ],
      "metadata": {
        "id": "eIwxJUSq3I9d"
      }
    },
    {
      "cell_type": "markdown",
      "source": [
        "✅ Operadores Relacionais\n",
        "\n",
        "Os operadores relacionais comparam dois valores e retornam um resultado booleano (ou seja, True ou False).\n",
        "\n",
        "**Veja os principais:**\n",
        "\n",
        "\"==\" → verifica se dois valores são iguais\n",
        "\n",
        "\"!=\" → verifica se dois valores são diferentes\n",
        "\n",
        "\">\" → verifica se o valor da esquerda é maior\n",
        "\n",
        "\"<\" → verifica se o valor da esquerda é menor\n",
        "\n",
        "\">=\" → verifica se é maior ou igual\n",
        "\n",
        "\"<=\" → verifica se é menor ou igual\n",
        "\n",
        "✅ Operadores Lógicos\n",
        "\n",
        "Os operadores lógicos são usados para combinar condições. Eles também retornam valores booleanos e são muito úteis quando precisamos verificar mais de uma condição ao mesmo tempo.\n",
        "\n",
        "and (E): Retorna True somente se todas as condições forem verdadeiras\n",
        "\n",
        "or (OU): Retorna True se pelo menos uma das condições for verdadeira\n",
        "\n",
        "not (NÃO): Inverte o valor lógico de uma expressão"
      ],
      "metadata": {
        "id": "wZu_EmmK318x"
      }
    },
    {
      "cell_type": "markdown",
      "source": [
        "## Veja os exemplos abaixo - Execute os códigos um a um para entender, troque os valores para ficar mais fácil o entendimento"
      ],
      "metadata": {
        "id": "8vX8RQvs4dsQ"
      }
    },
    {
      "cell_type": "code",
      "source": [
        "# Operadores Relacionais\n",
        "#  1. Igualdade (==) e Diferença (!=)\n",
        "a = 10\n",
        "b = 5\n",
        "\n",
        "print(a == b)\n",
        "print(a != b)"
      ],
      "metadata": {
        "id": "xNVmeRUMU3OU"
      },
      "execution_count": null,
      "outputs": []
    },
    {
      "cell_type": "markdown",
      "source": [
        "## Aplicação em senhas"
      ],
      "metadata": {
        "id": "5CIZb32GBgh3"
      }
    },
    {
      "cell_type": "code",
      "source": [
        "#entrada\n",
        "senhacerta=\"gostopython\"\n",
        "senha = input(\"Digite a senha: \")\n",
        "#processamento\n",
        "logado = senhacerta == senha\n",
        "#saída\n",
        "print(\"Está logado? \", logado)\n"
      ],
      "metadata": {
        "id": "ihCaXz_WBRNX"
      },
      "execution_count": null,
      "outputs": []
    },
    {
      "cell_type": "code",
      "source": [
        "# 2. Comparações (> , < , >= , <=)\n",
        "x = 8\n",
        "y = 12\n",
        "\n",
        "print(\"X é maior que Y?\", x > y)\n",
        "print(\"X é menor que Y?\",x < y)\n",
        "print(\"X é maior ou igual e Y?\",x >= 8)\n",
        "print(\"X é menor ou igual a Y?\",y <= 10)"
      ],
      "metadata": {
        "id": "fLAmvGGTVhPm"
      },
      "execution_count": null,
      "outputs": []
    },
    {
      "cell_type": "markdown",
      "source": [
        "## aplicação do exemplo anterior mais operador lógico"
      ],
      "metadata": {
        "id": "Vy3Q7wF8Cl40"
      }
    },
    {
      "cell_type": "code",
      "source": [
        "# 3. Operador \"AND\" (E) - Ambos precisam ser verdadeiros\n",
        "idade = 11\n",
        "tem_autorizacao = True\n",
        "\n",
        "podentrar = (idade >= 12 and tem_autorizacao)\n",
        "\n",
        "print(\"Pode entrar no evento?\", podentrar)\n"
      ],
      "metadata": {
        "id": "9dj-xWQ1WOe4"
      },
      "execution_count": null,
      "outputs": []
    },
    {
      "cell_type": "markdown",
      "source": [
        "## Com entrada de dados pelo Teclado"
      ],
      "metadata": {
        "id": "MNGl1vEvCSPN"
      }
    },
    {
      "cell_type": "code",
      "source": [
        "idade = int(input(\"Qual sua idade?\"))\n",
        "autorizacao = input(\"Trouxe autorização do seus responsáveis?\") #resposta tem que ser True ou False\n",
        "\n",
        "podentrar = (idade >= 12 and tem_autorizacao)\n",
        "\n",
        "print(\"Pode entrar no evento?\", podentrar)\n"
      ],
      "metadata": {
        "id": "nSqIDj2u-Rpw"
      },
      "execution_count": null,
      "outputs": []
    },
    {
      "cell_type": "markdown",
      "source": [
        "## outra forma de fazer o mesmo exercício, usando outra entrada de dados\n"
      ],
      "metadata": {
        "id": "uNuVUBkrCXpK"
      }
    },
    {
      "cell_type": "code",
      "source": [
        "idade = int(input(\"Qual sua idade? \"))\n",
        "autorizacao = int(input(\"Trouxe autorização do seus responsáveis?\\nDigite 1 para sim \\nDigite 2 para não: \"))\n",
        "\n",
        "verificacao = autorizacao==1\n",
        "\n",
        "podentrar = (idade >= 12 and verificacao)\n",
        "\n",
        "print(\"Pode entrar no evento?\", podentrar)"
      ],
      "metadata": {
        "id": "711Kvx27-4fm"
      },
      "execution_count": null,
      "outputs": []
    },
    {
      "cell_type": "code",
      "source": [
        "# 4. Operador \"OR\" (OU) - Basta um ser verdadeiro\n",
        "tem_ingresso = False\n",
        "nome_na_lista = False\n",
        "\n",
        "podeentrar = tem_ingresso or nome_na_lista\n",
        "\n",
        "print(\"Pode entrar na festa? \", podeentrar )"
      ],
      "metadata": {
        "id": "pR0TrqcMWx1f"
      },
      "execution_count": null,
      "outputs": []
    },
    {
      "cell_type": "code",
      "source": [
        "# 5. Operador \"NOT\" (NÃO) - Inverte o valor\n",
        "chovendo = True\n",
        "\n",
        "print(not chovendo)"
      ],
      "metadata": {
        "id": "g5C5xYyMW_rZ"
      },
      "execution_count": null,
      "outputs": []
    },
    {
      "cell_type": "code",
      "source": [
        "# 6. Misturando Relacionais + Lógicos\n",
        "nota = 7\n",
        "presenca = 65\n",
        "\n",
        "print(nota >= 6 and presenca >= 75)\n"
      ],
      "metadata": {
        "id": "MCpdGwU1XETi"
      },
      "execution_count": null,
      "outputs": []
    },
    {
      "cell_type": "markdown",
      "source": [
        "##Exemplo: Soma de 3 valores com desconto automático (sem if)\n",
        "\n",
        "O usuário terá desconto se a soma dos valores for maior que R$ 1000,00"
      ],
      "metadata": {
        "id": "t0n3Ajr-Ebfw"
      }
    },
    {
      "cell_type": "code",
      "source": [
        "# 7. com cálculos no meio.\n",
        "\n",
        "# Solicita três valores ao usuário\n",
        "v1 = float(input(\"Digite o valor do primeiro produto: \"))\n",
        "v2 = float(input(\"Digite o valor do segundo produto:  \"))\n",
        "v3 = float(input(\"Digite o valor do terceiro produto:  \"))\n",
        "\n",
        "# Soma total\n",
        "total = v1 + v2 + v3\n",
        "\n",
        "desconto =(total >= 1000)\n",
        "\n",
        "print(\"Vai ter desconto? \", desconto)"
      ],
      "metadata": {
        "id": "GpzpYjATEH_1"
      },
      "execution_count": null,
      "outputs": []
    },
    {
      "cell_type": "markdown",
      "source": [
        "##Seguindo os exemplos anteriores.  Faça os outros em seguida:\n",
        "\n",
        "# Importante: NÃO USE O CONDICIONAL IF. É obrigatório o uso apenas de operadores lógicos, relacioais e variáveis."
      ],
      "metadata": {
        "id": "MIudH-lZ4g35"
      }
    },
    {
      "cell_type": "markdown",
      "source": [
        "1- Solicite ao usuário a idade; Pergunte se está com responsável;\n",
        "\n",
        "Regra: A entrada para o cinema é permitida se a pessoa tiver 14 anos ou mais ou estiver acompanhada de um responsável.\n",
        "\n",
        "Na Saída informa se é True ou False, a possivel entrada no Cinema.\n",
        "\n",
        "Exemplo: Pode entrar no Cinema?....\n",
        "\n",
        "A Resposta esperada sera True ou False"
      ],
      "metadata": {
        "id": "A847ArYB4zIG"
      }
    },
    {
      "cell_type": "code",
      "source": [
        "#entrada\n",
        "idade = int(input(\"Digite sua idade: \"))\n",
        "acompanhado = int(input(\"Digite se está acompanhado de um responsável\\nDigite 1 para sim\\nDigite 2 para não\\n: \"))\n",
        "\n",
        "#processamento\n",
        "responsavel =  acompanhado==1\n",
        "pode_entrar = idade>=14 or responsavel\n",
        "\n",
        "#saida\n",
        "print(\"pode entrar no cinema?\", pode_entrar)\n"
      ],
      "metadata": {
        "id": "RWkY0IusDp1F",
        "colab": {
          "base_uri": "https://localhost:8080/"
        },
        "outputId": "f17a816d-615f-4c49-dc7b-e4c842f0362a"
      },
      "execution_count": null,
      "outputs": [
        {
          "output_type": "stream",
          "name": "stdout",
          "text": [
            "Digite sua idade: 15\n",
            "Digite se está acompanhado de um responsável\n",
            "Digite 1 para sim\n",
            "Digite 2 para não\n",
            ": 2\n",
            "pode entrar no cinema? True\n"
          ]
        }
      ]
    },
    {
      "cell_type": "markdown",
      "source": [
        "2- Um jogador só recebe promoção se: tiver mais de 1000 pontos OU for assinante premium.\n",
        "* Solicite os pontos na primeira entrada;\n",
        "* Solicite que tipo de assinante ele é;\n",
        "* Na saída informa se é Verdadeiro ou Falso a promoção;"
      ],
      "metadata": {
        "id": "1Z7RsUTF44M5"
      }
    },
    {
      "cell_type": "code",
      "source": [
        "#entrada\n",
        "pontos = int(input(\"Digite a quantidade de pontos:\"))\n",
        "premium = int(input(\"Digite se é premium\\nDigite 1 para sim\\nDigite 2 para não\\n: \"))\n",
        "\n",
        "#processamento\n",
        "pontos_necessarios = (pontos>=1000)\n",
        "assinante = premium==1\n",
        "promocao = pontos_necessarios or assinante\n",
        "\n",
        "#saida\n",
        "print(\"Recebeu promoção?\", promocao)"
      ],
      "metadata": {
        "id": "QRHx7-KtDqVZ"
      },
      "execution_count": null,
      "outputs": []
    },
    {
      "cell_type": "markdown",
      "source": [
        "3- Solicite um valor ao usuário.\n",
        "* Verifique se o número que o usuário digitou está entre 10 e 20\n",
        "* Na saída infome se é verdadeiro ou falso. }Exemplo saída. \"O número está entre 10 e 20\". A resposta será True ou False."
      ],
      "metadata": {
        "id": "tAFfmQ8u459E"
      }
    },
    {
      "cell_type": "code",
      "source": [
        "#entrada\n",
        "valor = int(input(\"Digite o valor:\"))\n",
        "\n",
        "#processamento\n",
        "esta_entre = (valor>=10) and (valor<=20)\n",
        "\n",
        "#saida\n",
        "print(\"Está entre 10 e 20?\", esta_entre)"
      ],
      "metadata": {
        "id": "6WjvOAV_DqsF"
      },
      "execution_count": null,
      "outputs": []
    },
    {
      "cell_type": "markdown",
      "source": [
        "4- Solicite a idade da pessoa, e pergunte quanto ela tem em dinheiro.\n",
        "\n",
        "* A pessoa pode fazer uma viagem se: tiver mais de 18 anos E tiver mais de R$ 2000,00\n",
        "\n",
        "* Na Saída informe se é Verdeiro ou falso A possibilidade da Viagem. Exemplo: Vai viajar? - O retorno será True or False"
      ],
      "metadata": {
        "id": "gx_l2c025hNr"
      }
    },
    {
      "cell_type": "code",
      "source": [
        "#entrada\n",
        "idade = int(input(\"digite a idade:\"))\n",
        "dinheiro = float(input(\"digite a quantidade de dinheiro:\"))\n",
        "\n",
        "#processamento\n",
        "pode_viajar = (idade>=18)"
      ],
      "metadata": {
        "id": "__EsZX4nDrF8"
      },
      "execution_count": null,
      "outputs": []
    },
    {
      "cell_type": "markdown",
      "source": [
        "5- Solicite a idade da pessoa, e pergunte quanto ela tem em dinheiro e agora pergunte se ela vai viajar com os pais.\n",
        "\n",
        "* A pessoa pode fazer uma viagem se: (tiver mais de 18 anos E tiver mais de R$ 2000,00) ou se ela estiver com os pais.\n",
        "\n",
        "* Na Saída informe se é Verdeiro ou falso A possibilidade da Viagem. Exemplo: Vai viajar? - O retorno será True or False\n"
      ],
      "metadata": {
        "id": "e4zE89vu6AsO"
      }
    },
    {
      "cell_type": "code",
      "source": [
        "#entrada\n",
        "idade = int(input(\"digite a idade:\"))\n",
        "dinheiro = float(input(\"digite a quantidade de dinheiro:\"))\n",
        "pais = int(input(\"Digite se vai viajar com os pais\\nDigite 1 para sim\\nDigite 2 para não\\n: \"))\n",
        "\n",
        "#processamento\n",
        "viajar_com_pais = pais==1\n",
        "pode_viajar = (idade>=18) and (dinheiro>=2000) or viajar_com_pais\n",
        "\n",
        "#saida\n",
        "print(\"Vai viajar?:\", pode_viajar)"
      ],
      "metadata": {
        "id": "FIj0zQUXDrif",
        "colab": {
          "base_uri": "https://localhost:8080/"
        },
        "outputId": "9d87936c-4e29-4f9d-b7ce-1317bc202bfd"
      },
      "execution_count": null,
      "outputs": [
        {
          "output_type": "stream",
          "name": "stdout",
          "text": [
            "digite a idade:19\n",
            "digite a quantidade de dinheiro:2009\n",
            "Digite se vai viajar com os pais\n",
            "Digite 1 para sim\n",
            "Digite 2 para não\n",
            ": 2\n",
            "Vai viajar?: True\n"
          ]
        }
      ]
    },
    {
      "cell_type": "markdown",
      "source": [
        "6-Solicite três notas ao usuário e calcule a média e também solicite quantos dias letivos tem no ano e quantas faltas ele teve.\n",
        "\n",
        "* Calcule a média (somando as notas e dividindo por 3)\n",
        "* Calcule o percential de faltas (Divida a quantidade de faltas pela quantidade de dias letivos e multiplique por 100).\n",
        "* Depois subtraia de 100 esse valor e obterá o percentual de presença\n",
        "\n",
        "Exemplo se o aluno faltou 5 vezes em 100 dias letivos:\n",
        "\n",
        "faltas = 5/100, obterá: 0,05, que multiplicando por 100 será 5.\n",
        "result = faltas * 100. Ou seja, 5% de faltas.\n",
        "\n",
        "percentual = 100 - result. Valor obtido nesse caso será 95, que representa 95% de presença.\n",
        "\n",
        "\n",
        "* Para passar de ano, o aluno precisa de nota maior ou igual a 6 E presença maior ou igual a 75%\n",
        "\n",
        "* Na saída informe se é verdadeiro ou falso que ele irá passar de ano. Exemplo: Vai passar de Ano? Ira ter como resposta: True or False\n"
      ],
      "metadata": {
        "id": "YwP3YbWN41v1"
      }
    },
    {
      "cell_type": "code",
      "source": [
        "#entrada\n",
        "nota1 = float(input(\"Digite a primeira nota:\"))\n",
        "nota2 = float(input(\"Digite a segunda nota:\"))\n",
        "nota3 = float(input(\"Digite a terceira nota:\"))\n",
        "dias_letivos = int(input(\"Digite a quantidade de dias letivos:\"))\n",
        "faltas = int(input(\"Digite a quantidade de faltas:\"))\n",
        "\n",
        "#processamento\n",
        "media = (nota1+nota2+nota3)/3\n",
        "faltas_percentual = (faltas/dias_letivos)*100\n",
        "presenca = 100 - faltas\n",
        "aprovado = (media>=6) and (presenca>=75)\n",
        "\n",
        "#saida\n",
        "print(\"Aprovado?:\", aprovado)"
      ],
      "metadata": {
        "id": "BjfMiCxRDr-h"
      },
      "execution_count": null,
      "outputs": []
    },
    {
      "cell_type": "markdown",
      "source": [
        "7) Peça para o usuário digitar um valor informe se ele é par ou impar"
      ],
      "metadata": {
        "id": "IOXzmuPgzrUz"
      }
    },
    {
      "cell_type": "code",
      "source": [
        "#entrada\n",
        "valor = int(input(\"Digite um numero para ver se é par ou impar! \"))\n",
        "\n",
        "#processamento\n",
        "par = (valor%2 == 0)\n",
        "impar = (valor%2 > 0)\n",
        "\n",
        "#saida\n",
        "print(\"E par?\",par)\n",
        "print(\"E impar?\",impar)"
      ],
      "metadata": {
        "id": "W3s-pjSNzuxj",
        "colab": {
          "base_uri": "https://localhost:8080/"
        },
        "outputId": "26563f9a-8bcc-4e52-c7ee-e50e089059bf"
      },
      "execution_count": null,
      "outputs": [
        {
          "output_type": "stream",
          "name": "stdout",
          "text": [
            "Digite um numero para ver se é par ou impar! 5\n",
            "E par? False\n",
            "E impar? True\n"
          ]
        }
      ]
    },
    {
      "cell_type": "markdown",
      "source": [
        "8 ) Faça um algoritmo em Python que receba o valor de três lados de um possível triângulo (l1, l2 e l3) e utilize operadores relacionais e lógicos para:\n",
        "\n",
        "1.\tVerificar se os valores informados podem formar um triângulo.\n",
        "2.\tIdentificar se o triângulo é equilátero, escaleno ou isósceles.\n",
        "\n",
        "O programa deve atribuir True ou False para cada uma das seguintes variáveis:\n",
        "* triangulo: True se os lados puderem formar um triângulo.\n",
        "* equilatero: True se o triângulo for equilátero.\n",
        "* escaleno: True se o triângulo for escaleno.\n",
        "* isosceles: True se o triângulo for isósceles.\n",
        "\n",
        "Dica: Um triângulo só é possível se a soma de dois lados for maior que o terceiro, para os três pares possíveis.\n",
        "\n",
        "Lógica necessária\n",
        "\n",
        "Para ser um triângulo:\n",
        "\n",
        "* l1+l2>l3 e\n",
        "* l1+l3>l2l e\n",
        "* l2+l3>l1\n",
        "\n",
        "Tipos de triângulo:\n",
        "* Equilátero: todos os lados iguais.\n",
        "* Escaleno: todos os lados diferentes.\n",
        "* Isósceles: dois lados iguais."
      ],
      "metadata": {
        "id": "fDwuVk9JzvWr"
      }
    },
    {
      "cell_type": "code",
      "source": [
        "#entrada\n",
        "L1 = int(input('Digite o valor do lado 1: '))\n",
        "L2 = int(input('Digite o valor do lado 2: '))\n",
        "L3 = int(input('Digite o valor do lado 3: '))\n",
        "\n",
        "#processamento\n",
        "triangulo = (L1 + L2 > L3) and (L1 + L3 > L2) and (L2 + L3 > L1)\n",
        "\n",
        "equilatero = (L1 == L2) and (L2 == L3) and (L1 == L3)\n",
        "isosceles = (L1 == L2) or (L2 == L3) or (L1 == L3)\n",
        "escaleno = (L1 != L2) and (L2 != L3) and (L1 != L3)\n",
        "\n",
        "#saida\n",
        "print(\"E um triangulo?\",triangulo)\n",
        "print(\"E um triangulo equilatero?\",equilatero)\n",
        "print(\"E um triangulo isosceles?\",isosceles)\n",
        "print(\"E um triangulo escaleno?\",escaleno)"
      ],
      "metadata": {
        "id": "K57FadkSz1DL"
      },
      "execution_count": null,
      "outputs": []
    },
    {
      "cell_type": "markdown",
      "source": [
        "9) Faça um programa que solicite peso e altura, informe seu IMC. Ao final informe se ele está, abaixo do peso,peso ideal ou acima do peso. fórmula do IMC: (peso/altura^2), siga a tabela abaixo:\n",
        "\n",
        "IMC \t                    \n",
        "* Menos do que 18,5 ==> Abaixo do Peso\n",
        "* Entre 18,5 e 24,9  ==>Peso normal\n",
        "* Entre 25 e 29,9  ==> \tSobrepeso\n",
        "* Entre 30 e 34,9  ==> \tObesidade grau 1\n",
        "* Entre 35 e 39,9  ==> \tObesidade grau 2\n",
        "* Mais do que 40 \t  ==> Obesidade grau 3"
      ],
      "metadata": {
        "id": "ymt6F0gqz2E7"
      }
    },
    {
      "cell_type": "code",
      "source": [
        "#entrada\n",
        "altura =  float(input(\"digite a sua altura: \"))\n",
        "peso = float(input(\"digite o seu peso :\"))\n",
        "\n",
        "#processamento\n",
        "imc = peso / (altura**2)\n",
        "\n",
        "abaixo_do_peso = (imc < 18.5)\n",
        "peso_ideal = (imc >= 18.5) and (imc <= 24.9)\n",
        "sobrepeso = (imc >= 25) and (imc <= 29.9)\n",
        "obesidade1 = (imc >= 30) and (imc <= 34.9)\n",
        "obesidade2 = (imc >= 35) and (imc <= 39.9)\n",
        "obesidade3 = (imc > 40)\n",
        "\n",
        "#saida\n",
        "\n",
        "print(\"Seu imc E:\" , imc)\n",
        "print(\"Abaixo do peso?\",abaixo_do_peso)\n",
        "print(\"Peso ideal?\",peso_ideal)\n",
        "print(\"Sobrepeso?\",sobrepeso)\n",
        "print(\"Obesidade grau 1?\",obesidade1)\n",
        "print(\"Obesidade grau 2?\",obesidade2)\n",
        "print(\"Obesidade grau 3?\",obesidade3)"
      ],
      "metadata": {
        "id": "RDkZYCOVz50b"
      },
      "execution_count": null,
      "outputs": []
    },
    {
      "cell_type": "markdown",
      "source": [
        "4) Faça um programa que solicite altura e idade do usuário, informe se ele pode ou nao competir. Regras: Para competir no campeonato de vôlei o usuário de ter pelo menos 1.75 de altura e 18 anos."
      ],
      "metadata": {
        "id": "29dWEOf3z9hj"
      }
    },
    {
      "cell_type": "code",
      "source": [
        "# entrada\n",
        "altura = float(input(\"Digite sua altura: \"))\n",
        "idade = int(input(\"Digite sua idade: \"))\n",
        "\n",
        "# processamento\n",
        "pode_competir = (altura >= 1.75) and (idade >= 18)\n",
        "\n",
        "# saída\n",
        "print(\"Posso competir no campeonato?\", pode_competir)"
      ],
      "metadata": {
        "id": "GmDaYiUvz_TZ"
      },
      "execution_count": null,
      "outputs": []
    },
    {
      "cell_type": "markdown",
      "source": [
        "# Condicionais"
      ],
      "metadata": {
        "id": "pio-joRm7dh1"
      }
    },
    {
      "cell_type": "markdown",
      "source": [
        "## Condicional Muito Simples"
      ],
      "metadata": {
        "id": "m5TP8YzV7iv8"
      }
    },
    {
      "cell_type": "code",
      "source": [
        "idade = 18\n",
        "if idade >= 18:\n",
        "  print(\"Você é maior de idade\")"
      ],
      "metadata": {
        "colab": {
          "base_uri": "https://localhost:8080/"
        },
        "id": "n8Ehmen87hZk",
        "outputId": "172d7849-d3c3-41cc-a182-22befd285063"
      },
      "execution_count": null,
      "outputs": [
        {
          "output_type": "stream",
          "name": "stdout",
          "text": [
            "Você é maior de idade\n"
          ]
        }
      ]
    },
    {
      "cell_type": "markdown",
      "source": [
        "## Caucula Media e Percentual de Faltas"
      ],
      "metadata": {
        "id": "5qirX05q-TNZ"
      }
    },
    {
      "cell_type": "code",
      "source": [
        "\n",
        "#entrada\n",
        "nota1 = float(input(\"Digite a primeira nota:\"))\n",
        "nota2 = float(input(\"Digite a segunda nota:\"))\n",
        "nota3 = float(input(\"Digite a terceira nota:\"))\n",
        "dias_letivos = int(input(\"Digite a quantidade de dias letivos:\"))\n",
        "faltas = int(input(\"Digite a quantidade de faltas:\"))\n",
        "\n",
        "#processamento\n",
        "media = (nota1+nota2+nota3)/3\n",
        "faltas_percentual = (faltas/dias_letivos)*100\n",
        "presenca = 100 - faltas\n",
        "if (media>=6) and (presenca>=75):\n",
        "  print(\"Voce está aprovado, com nota: \", media, \"e percentual de prensenca de: \", presenca,\"%\")\n",
        "else:\n",
        "  print(\"Voce está reprovado, com nota: \", media, \"e percentual de prensenca de: \", presenca,\"%\")\n",
        "\n"
      ],
      "metadata": {
        "colab": {
          "base_uri": "https://localhost:8080/"
        },
        "id": "r-x2VXKF-Sfa",
        "outputId": "434711f6-34cd-4ee1-cb68-bd34e56cc15a"
      },
      "execution_count": null,
      "outputs": [
        {
          "output_type": "stream",
          "name": "stdout",
          "text": [
            "Digite a primeira nota:9\n",
            "Digite a segunda nota:10\n",
            "Digite a terceira nota:8\n",
            "Digite a quantidade de dias letivos:200\n",
            "Digite a quantidade de faltas:4\n",
            "Voce está aprovado, com nota:  9.0 e percentual de prensenca de:  96 %\n"
          ]
        }
      ]
    },
    {
      "cell_type": "markdown",
      "source": [
        "# Condicional Composto"
      ],
      "metadata": {
        "id": "rpnit_FdB7Ou"
      }
    },
    {
      "cell_type": "markdown",
      "source": [
        "## Converter notas em menções"
      ],
      "metadata": {
        "id": "yf-3SoRkCB5A"
      }
    },
    {
      "cell_type": "code",
      "source": [
        "nota = int(input(\"digite a sua nota: \"))\n",
        "if (nota>=0 and nota<4.99):\n",
        "  print(\"I\")\n",
        "elif (nota>=5 and nota<=6.5):\n",
        "  print(\"R\")\n",
        "elif (nota>=6.5 and nota<=7.5):\n",
        "  print(\"B\")\n",
        "elif (nota<0) or (nota>10):\n",
        "  print(\"Nota inválida\")\n",
        "else:\n",
        "  print(\"MB\")"
      ],
      "metadata": {
        "colab": {
          "base_uri": "https://localhost:8080/"
        },
        "id": "UZ7nwxUrB_wu",
        "outputId": "a7d455d8-f965-431e-8529-45c3e346c286"
      },
      "execution_count": null,
      "outputs": [
        {
          "output_type": "stream",
          "name": "stdout",
          "text": [
            "digite a sua nota: 8\n",
            "MB\n"
          ]
        }
      ]
    },
    {
      "cell_type": "markdown",
      "source": [
        "# Condicional Alinhado"
      ],
      "metadata": {
        "id": "a_vrK1stFdbw"
      }
    },
    {
      "cell_type": "code",
      "source": [
        "senhacerta=123456\n",
        "usuariocerto = \"admin\"\n",
        "usuario = input(\"Digite o seu usuario:\")\n",
        "senha = int(input(\"Digite a sua senha:\"))\n",
        "\n",
        "if usuario == usuariocerto:\n",
        "  if senha == senhacerta:\n",
        "    print(\"Usuario logado\")\n",
        "  else:\n",
        "    print(\"Senhra inválida\")\n",
        "else:\n",
        "  print(\"Usuario inválido\")"
      ],
      "metadata": {
        "colab": {
          "base_uri": "https://localhost:8080/"
        },
        "id": "DKRGnJuM0C9U",
        "outputId": "ad9c351b-623a-4a6c-e45a-97c9e566ed3c"
      },
      "execution_count": null,
      "outputs": [
        {
          "output_type": "stream",
          "name": "stdout",
          "text": [
            "Digite o seu usuario:admin\n",
            "Digite a sua senha:123456\n",
            "Usuario logado\n"
          ]
        }
      ]
    },
    {
      "cell_type": "code",
      "source": [
        "if usuario == usuariocerto and senha == senhacerta:\n",
        "  print(\"Usuario logado\")\n",
        "else:\n",
        "  print(\"Usuario ou senha inválidos\")"
      ],
      "metadata": {
        "id": "H_figOMcCk03",
        "colab": {
          "base_uri": "https://localhost:8080/"
        },
        "outputId": "3cbed201-c4fb-4ca5-ef49-bab06f764c69"
      },
      "execution_count": null,
      "outputs": [
        {
          "output_type": "stream",
          "name": "stdout",
          "text": [
            "Usuario logado\n"
          ]
        }
      ]
    },
    {
      "cell_type": "markdown",
      "source": [
        "## Exemplo 2"
      ],
      "metadata": {
        "id": "uFP_0sE_5zD5"
      }
    },
    {
      "cell_type": "code",
      "source": [
        "idade = int(input(\"Digite sua idade: \"))\n",
        "tem_autorizacao = input(\"Digite se tem autorizção:\")\n",
        "membro_VIP = input(\"Digite se é membro VIP:\")\n",
        "if idade >=18:\n",
        "  print(\"Pode entrar\")\n",
        "  if membro_VIP:\n",
        "    print(\"Acesso permitido com bebida a vontade\")\n",
        "else:\n",
        "  if tem_autorizacao:\n",
        "    print(\"Acesso limitado á areas comuns, sem bebida\")\n",
        "  else:\n",
        "    print(\"Acesso negado\")"
      ],
      "metadata": {
        "colab": {
          "base_uri": "https://localhost:8080/"
        },
        "id": "2ebPPG8F52_h",
        "outputId": "7c44ca1d-509c-4750-8f72-ad0a4f6ff940"
      },
      "execution_count": null,
      "outputs": [
        {
          "output_type": "stream",
          "name": "stdout",
          "text": [
            "Digite sua idade: 500\n",
            "Digite se tem autorizção:False\n",
            "Digite se é membro VIP:False\n",
            "Você está muito velho para isso \n",
            "Pode entrar\n",
            "Acesso permitido com bebida a vontade\n"
          ]
        }
      ]
    }
  ]
}