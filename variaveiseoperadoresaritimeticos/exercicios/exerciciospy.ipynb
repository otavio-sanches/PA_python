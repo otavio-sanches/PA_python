{
  "nbformat": 4,
  "nbformat_minor": 0,
  "metadata": {
    "colab": {
      "provenance": []
    },
    "kernelspec": {
      "name": "python3",
      "display_name": "Python 3"
    },
    "language_info": {
      "name": "python"
    }
  },
  "cells": [
    {
      "cell_type": "markdown",
      "source": [
        "#exercicio 1"
      ],
      "metadata": {
        "id": "Er5AFMswrlRL"
      }
    },
    {
      "cell_type": "code",
      "execution_count": 1,
      "metadata": {
        "colab": {
          "base_uri": "https://localhost:8080/"
        },
        "id": "9cQp0Vccq_kK",
        "outputId": "affe679d-4762-4b58-b41e-8cfcc0de091f"
      },
      "outputs": [
        {
          "output_type": "stream",
          "name": "stdout",
          "text": [
            "Digite o custo de fábrica do carro: R$ 25000\n",
            "\n",
            "Impostos (45%): R$ 11250.00\n",
            "Valor com impostos: R$ 36250.00\n",
            "Margem do distribuidor (28%): R$ 10150.00\n",
            "Preço final para o consumidor: R$ 46400.00\n"
          ]
        }
      ],
      "source": [
        "custo_fabrica = float(input(\"Digite o custo de fábrica do carro: R$ \"))\n",
        "\n",
        "impostos = custo_fabrica * 0.45\n",
        "custo_com_impostos = custo_fabrica + impostos\n",
        "\n",
        "margem_distribuidor = custo_com_impostos * 0.28\n",
        "custo_final = custo_com_impostos + margem_distribuidor\n",
        "\n",
        "print(f\"\\nImpostos (45%): R$ {impostos:.2f}\")\n",
        "print(f\"Valor com impostos: R$ {custo_com_impostos:.2f}\")\n",
        "print(f\"Margem do distribuidor (28%): R$ {margem_distribuidor:.2f}\")\n",
        "print(f\"Preço final para o consumidor: R$ {custo_final:.2f}\")\n"
      ]
    },
    {
      "cell_type": "markdown",
      "source": [
        "#execicio 2"
      ],
      "metadata": {
        "id": "9YI7U17mrpV1"
      }
    },
    {
      "cell_type": "code",
      "source": [
        "horas = int(input(\"Digite as horas: \"))\n",
        "minutos = int(input(\"Digite os minutos: \"))\n",
        "\n",
        "horas_decimal = horas + (minutos / 60)\n",
        "\n",
        "segundos = (horas * 3600) + (minutos * 60)\n",
        "\n",
        "print(f\"\\nFormato decimal: {horas_decimal:.2f} horas\")\n",
        "print(f\"Tempo total em segundos: {segundos} segundos\")\n"
      ],
      "metadata": {
        "colab": {
          "base_uri": "https://localhost:8080/"
        },
        "id": "rCyNlgMcruIp",
        "outputId": "43f95783-fca4-459c-ad2f-4acaa21d1056"
      },
      "execution_count": 2,
      "outputs": [
        {
          "output_type": "stream",
          "name": "stdout",
          "text": [
            "Digite as horas: 4\n",
            "Digite os minutos: 23\n",
            "\n",
            "Formato decimal: 4.38 horas\n",
            "Tempo total em segundos: 15780 segundos\n"
          ]
        }
      ]
    },
    {
      "cell_type": "markdown",
      "source": [
        "#exercicio 3"
      ],
      "metadata": {
        "id": "HDYNv2jmsFmY"
      }
    },
    {
      "cell_type": "code",
      "source": [
        "horas = int(input(\"Digite as horas trabalhadas: \"))\n",
        "minutos = int(input(\"Digite os minutos trabalhados: \"))\n",
        "valor_hora = float(input(\"Digite o valor recebido por hora: R$ \"))\n",
        "\n",
        "horas_decimal = horas + (minutos / 60)\n",
        "\n",
        "valor_normal = horas_decimal * valor_hora\n",
        "\n",
        "valor_total = valor_normal * 1.7\n",
        "\n",
        "print(f\"\\nHoras convertidas: {horas_decimal:.2f} horas\")\n",
        "print(f\"Valor normal: R$ {valor_normal:.2f}\")\n",
        "print(f\"Valor com 70% a mais: R$ {valor_total:.2f}\")\n"
      ],
      "metadata": {
        "colab": {
          "base_uri": "https://localhost:8080/"
        },
        "id": "zT3EhSvLsIOs",
        "outputId": "a64b5a04-433a-432a-e4c2-d1d66043b9b7"
      },
      "execution_count": 4,
      "outputs": [
        {
          "output_type": "stream",
          "name": "stdout",
          "text": [
            "Digite as horas trabalhadas: 20\n",
            "Digite os minutos trabalhados: 0\n",
            "Digite o valor recebido por hora: R$ 25\n",
            "\n",
            "Horas convertidas: 20.00 horas\n",
            "Valor normal: R$ 500.00\n",
            "Valor com 70% a mais: R$ 850.00\n"
          ]
        }
      ]
    }
  ]
}
